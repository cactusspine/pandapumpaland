{
 "cells": [
  {
   "cell_type": "code",
   "execution_count": null,
   "metadata": {},
   "outputs": [],
   "source": [
    "方法二\n",
    "配置 .ssh/config , 对 github.com 设置一个代理命令\n",
    "\n",
    "Host github.com \n",
    "ProxyCommand ~/.ssh/ssh-https-tunnel %h %p ~/.ssh/proxyauth\n",
    "Port 443\n",
    "Hostname ssh.github.com\n",
    "这里你可以看到第二行最后有一个~/.ssh/proxyauth。这是因为我单位的代理有口令，所以要再生成一个proxyauth文件，格式就是：username:password。如果你没有，去掉它就行了。\n",
    "\n",
    "同时Hostname的目的是为了创建一个别名，其实我们使用的是ssh.github.com，但是因为平时都使用git@github.com，所以为了不进行修改，创建一个别名。\n",
    "\n",
    "下载ssh-https-tunnel，可以从 http://zwitterion.org/software/ssh-https-tunnel/ssh-https-tunnel ，保存到你的git的~/.ssh目录下，同时要打开这个文件进行修改，将：\n",
    "\n",
    "my $proxy = \"\";\n",
    "my $proxy_port = ;\n",
    "改成你的实际的代理服务器地址。\n",
    "\n",
    "使用ssh git@github.com 来测试\n",
    "\n",
    "The authenticity of host 'github.com (192.38.252.124)' can't be established.\n",
    "RSA key fingerprint is 16:27:ac:a5:76:28:2d:36:63:1b:56:4d:eb:df:a6:48.\n",
    "Are you sure you want to continue connecting (yes/no)? yes\n",
    "Warning: Permanently added 'github.com,192.38.252.124' (RSA) to the list of known hosts.\n",
    "Permission denied (publickey).\n",
    "以上，参考：http://blog.chinaunix.net/uid-22627501-id-3050090.html\n",
    "    http://www.cnblogs.com/meshinestar/p/3994822.html"
   ]
  }
 ],
 "metadata": {
  "kernelspec": {
   "display_name": "Python 3",
   "language": "python",
   "name": "python3"
  },
  "language_info": {
   "codemirror_mode": {
    "name": "ipython",
    "version": 3
   },
   "file_extension": ".py",
   "mimetype": "text/x-python",
   "name": "python",
   "nbconvert_exporter": "python",
   "pygments_lexer": "ipython3",
   "version": "3.5.2"
  }
 },
 "nbformat": 4,
 "nbformat_minor": 2
}
